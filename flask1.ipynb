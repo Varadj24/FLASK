{
 "cells": [
  {
   "cell_type": "code",
   "execution_count": 1,
   "id": "3659857e-9b17-47e2-a080-34f2703fc1ee",
   "metadata": {},
   "outputs": [],
   "source": [
    "#Q1. What is Flask Framework? What are the advantages of Flask Framework?"
   ]
  },
  {
   "cell_type": "code",
   "execution_count": null,
   "id": "05dff40d-f290-4919-b04e-87a5f91f37fc",
   "metadata": {},
   "outputs": [],
   "source": [
    "'''Flask is a lightweight and micro web framework for Python. \n",
    "It is designed to be simple, easy to use, and highly extensible,\n",
    "making it a popular choice for building web applications, especially when you want more control over the components you use \n",
    "and don't need all the features of a larger framework like Django.\n",
    "\n",
    "Here are some key advantages of Flask:\n",
    "\n",
    "Simplicity: \n",
    "    Flask follows a minimalist design philosophy, \n",
    "providing only the essential tools for building web applications. \n",
    "This simplicity makes it easy for developers to get started quickly \n",
    "and understand the framework's core concepts.\n",
    "\n",
    "Flexibility: \n",
    "   Flask is unopinionated and gives developers the freedom to \n",
    "choose the components they want to use. You can easily integrate various extensions\n",
    "and libraries as needed for your project, making it a versatile choice for a wide range of applications.\n",
    "\n",
    "Lightweight: Flask has a small codebase and minimal dependencies, resulting in a lightweight framework. This can lead to faster startup times and efficient resource usage, which is important for scaling web applications.\n",
    "\n",
    "Jinja2 Templates: Flask comes with Jinja2 as its default templating engine. Jinja2 allows developers to create dynamic HTML templates with a familiar and easy-to-use syntax.\n",
    "\n",
    "Werkzeug: Flask is built on top of the Werkzeug WSGI library, which provides low-level web handling capabilities. This allows you to have fine-grained control over HTTP request and response handling.\n",
    "\n",
    "Extensibility: Flask has a vibrant ecosystem of extensions that can be easily integrated into your application. These extensions cover a wide range of functionalities, from database integration (e.g., SQLAlchemy) to authentication and authorization (e.g., Flask-Login and Flask-Security)."
   ]
  },
  {
   "cell_type": "code",
   "execution_count": null,
   "id": "6fa0accd-17b9-4187-bc3a-1d4d2702f489",
   "metadata": {},
   "outputs": [],
   "source": []
  },
  {
   "cell_type": "code",
   "execution_count": 1,
   "id": "299a4e34-a58e-4d31-b236-31c2a8aca7f4",
   "metadata": {},
   "outputs": [],
   "source": [
    "#Q3. What is App routing in Flask? Why do we use app routes?"
   ]
  },
  {
   "cell_type": "code",
   "execution_count": null,
   "id": "72117a65-d17d-4fba-a591-6de4fbafa9d9",
   "metadata": {},
   "outputs": [],
   "source": [
    "'''In Flask, \"app routing\" refers to the process of defining routes for your web application. \n",
    "A route in Flask is a URL pattern associated with a specific view function, \n",
    "which is responsible for handling requests made to that URL.\n",
    "The Flask @app.route decorator is commonly used to define these routes. \n",
    "Each route corresponds to a specific URL endpoint in your application.'''"
   ]
  },
  {
   "cell_type": "code",
   "execution_count": null,
   "id": "d145ae04-c4eb-42c5-a873-3d6f1aab73e8",
   "metadata": {},
   "outputs": [],
   "source": []
  },
  {
   "cell_type": "code",
   "execution_count": 2,
   "id": "679926e1-f779-4540-b86b-9c9f8ab31f76",
   "metadata": {},
   "outputs": [],
   "source": [
    "#Q5. What function is used in Flask for URL Building? Write a Python code to demonstrate the working of the url_for() function"
   ]
  },
  {
   "cell_type": "code",
   "execution_count": null,
   "id": "220ae995-ecb9-406e-9fd7-73d73b229c36",
   "metadata": {},
   "outputs": [],
   "source": []
  }
 ],
 "metadata": {
  "kernelspec": {
   "display_name": "Python 3 (ipykernel)",
   "language": "python",
   "name": "python3"
  },
  "language_info": {
   "codemirror_mode": {
    "name": "ipython",
    "version": 3
   },
   "file_extension": ".py",
   "mimetype": "text/x-python",
   "name": "python",
   "nbconvert_exporter": "python",
   "pygments_lexer": "ipython3",
   "version": "3.10.8"
  }
 },
 "nbformat": 4,
 "nbformat_minor": 5
}
