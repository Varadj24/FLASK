{
 "cells": [
  {
   "cell_type": "code",
   "execution_count": null,
   "id": "fd8cea2c-26d7-47bb-a975-2a485ae97ea2",
   "metadata": {},
   "outputs": [],
   "source": [
    "#Q1.Explain GET and POST methods"
   ]
  },
  {
   "cell_type": "code",
   "execution_count": null,
   "id": "9bdedea6-66b6-48d0-be34-e5e1d2af294d",
   "metadata": {},
   "outputs": [],
   "source": [
    "'''\n",
    "1).GET Method:\n",
    "\n",
    "Purpose: \n",
    "     The GET method is primarily used to request data from a specified resource. \n",
    "It is a safe and idempotent operation, meaning that it should not change the \n",
    "state of the server or have any side effects. It's intended for retrieving data only.\n",
    "\n",
    "Data Transmission:\n",
    "    Data is appended to the URL as query parameters, typically visible in the browser's address bar.\n",
    "This makes it easy to bookmark or share the URL.\n",
    "\n",
    "Data Length Limit:\n",
    "     There is a limit to the amount of data that can be sent via GET, \n",
    "which is determined by the browser and server but is typically less than a few kilobytes.\n",
    "\n",
    "Security: \n",
    "     Data is visible in the URL, which can pose security risks for sensitive information.\n",
    "     \n",
    "2).POST Method:\n",
    "\n",
    "Purpose:\n",
    "   The POST method is used to submit data to be processed by a specified resource.\n",
    "It is not idempotent, meaning that multiple identical POST requests may result in different outcomes, \n",
    "such as creating multiple records.\n",
    "\n",
    "Data Transmission: \n",
    "  Data is sent in the body of the HTTP request, \n",
    "not visible in the URL. This makes it suitable for sending \n",
    "large amounts of data, such as form submissions or file uploads.\n",
    "\n",
    "Data Length Limit: \n",
    "     There is usually no specific limit on the amount of data that can be \n",
    "sent via POST, although practical limits may exist based on server configurations.\n",
    "\n",
    "Security: \n",
    "     POST requests are generally considered more secure for transmitting sensitive\n",
    "information, as data is not visible in the URL.'''"
   ]
  },
  {
   "cell_type": "code",
   "execution_count": null,
   "id": "282a687d-99b1-4d6c-bd76-45ff72eac3c8",
   "metadata": {},
   "outputs": [],
   "source": []
  },
  {
   "cell_type": "code",
   "execution_count": 1,
   "id": "fa509526-cc78-46a8-9395-29bd2bbb9564",
   "metadata": {},
   "outputs": [],
   "source": [
    "#Q2. Why is request used in Flask?"
   ]
  },
  {
   "cell_type": "code",
   "execution_count": null,
   "id": "037502f2-4570-469e-981d-b18ae9e27435",
   "metadata": {},
   "outputs": [],
   "source": [
    "'''In Flask, the `request` object is used to access and manipulate incoming HTTP request data sent by a client \n",
    " (typically a web browser or another application) to the Flask web application.\n",
    " This object is provided by Flask's request handling mechanism and allows you to \n",
    " retrieve information such as form data, query parameters, headers, cookies, and more from the incoming request. \n",
    " The `request` object is a fundamental component of handling user input and interacting with the client.\n",
    "\n",
    "Here are some common use cases for the `request` object in Flask:\n",
    "\n",
    "1.Accessing Form Data: You can use `request.form` to access data submitted from HTML forms using methods like POST or PUT. \n",
    "For example, if you have a form field named \"username,\" you can access it like this:\n",
    "   \n",
    "   username = request.form.get('username')\n",
    "   \n",
    "\n",
    "2.Accessing Query Parameters: \n",
    "  When data is sent as query parameters in the URL (usually via GET requests),\n",
    "you can access them using `request.args`.\n",
    "For example:\n",
    "   user_id = request.args.get('user_id')\n",
    "\n",
    "\n",
    "3.Working with Cookies: \n",
    "  You can use `request.cookies` to access cookies sent by the client.\n",
    "\n",
    "   user_token = request.cookies.get('user_token')\n",
    "   \n",
    "\n",
    "4.Accessing Request Headers: \n",
    "    Information in the HTTP headers of the request can be accessed using `request.headers`. \n",
    "For example, you can get the user's User-Agent header:\n",
    "   \n",
    "   user_agent = request.headers.get('User-Agent')\n",
    "   \n",
    "\n",
    "5.Uploading Files: \n",
    "    If your application allows file uploads, you can use `request.files` to handle file data from the client.\n",
    "\n",
    "   uploaded_file = request.files['file']\n",
    "   \n",
    "6.Accessing the HTTP Method: You can determine the HTTP method of the request using `request.method`.\\\n",
    "    This is useful for conditional logic based on the request type (GET, POST, etc.).\n",
    "\n",
    "   \n",
    "   if request.method == 'POST':\n",
    "\n",
    "7.Accessing the Request Path: You can access the path of the request using `request.path`.\n",
    "   current_path = request.path\n",
    "   \n",
    "\n",
    "8.Accessing JSON Data: \n",
    "    When receiving JSON data in the request body, you can parse it using `request.get_json()`.\n",
    "      data = request.get_json()"
   ]
  },
  {
   "cell_type": "code",
   "execution_count": null,
   "id": "95adeae6-b61e-49f7-9734-f7ed01e50c53",
   "metadata": {},
   "outputs": [],
   "source": []
  },
  {
   "cell_type": "code",
   "execution_count": 3,
   "id": "6a5cfb51-53ed-42dd-bc48-33c38d7be835",
   "metadata": {},
   "outputs": [],
   "source": [
    "#Q3. Why is redirect() used in Flask?"
   ]
  },
  {
   "cell_type": "code",
   "execution_count": null,
   "id": "bf24034c-f864-4ef4-b7eb-508600557388",
   "metadata": {},
   "outputs": [],
   "source": [
    "'''In Flask, the `redirect()` function is used to perform a URL redirection,\n",
    "which means it sends an HTTP response to the client with a different \n",
    "URL to which the client's browser should navigate. This is often used \n",
    "for various purposes in web applications, such as:\n",
    "\n",
    "1. **Page Redirection**: You can use `redirect()` to guide the user to a different page within your Flask application.\n",
    "For example, after a successful form submission, you might redirect the user to a \"Thank You\" page.\n",
    "\n",
    "2. **Handling User Authentication**: After a user logs in or logs out, you can use `redirect()` to direct them to the appropriate page. \n",
    "For instance, after a successful login, you might redirect the user to their dashboard.\n",
    "\n",
    "3. **Clean URLs**: Redirects can be used to create clean and user-friendly URLs. \n",
    "For instance, you can set up routes with slugs or IDs and then use `redirect()` \n",
    "to ensure that users are redirected to the correct page based on this data.'''"
   ]
  },
  {
   "cell_type": "code",
   "execution_count": null,
   "id": "2517b7af-b8ab-4980-9080-ed91871225d4",
   "metadata": {},
   "outputs": [],
   "source": [
    "from flask import Flask, redirect, url_for\n",
    "\n",
    "app = Flask(__name__)\n",
    "\n",
    "@app.route('/')\n",
    "def index():\n",
    "    # Redirect to the 'welcome' page\n",
    "    return redirect(url_for('welcome'))\n",
    "\n",
    "@app.route('/welcome')\n",
    "def welcome():\n",
    "    return 'Welcome to the Flask app!'\n",
    "\n",
    "if __name__ == '__main__':\n",
    "    app.run()\n"
   ]
  },
  {
   "cell_type": "code",
   "execution_count": null,
   "id": "1b5f7434-7887-4184-89d0-f6b89cb72d22",
   "metadata": {},
   "outputs": [],
   "source": []
  },
  {
   "cell_type": "code",
   "execution_count": null,
   "id": "8ef74c97-2830-400e-b584-abc4e871465a",
   "metadata": {},
   "outputs": [],
   "source": [
    "#Q4.What are templates in Flask? Why is the render_template() function used?"
   ]
  },
  {
   "cell_type": "code",
   "execution_count": null,
   "id": "6d49a651-2b17-40c0-9764-5606020dd37e",
   "metadata": {},
   "outputs": [],
   "source": [
    "'''In Flask, templates are a fundamental component of the framework's web development capabilities.\n",
    "Templates are used to separate the structure (HTML) of a web page from its content and logic. \n",
    "This separation allows developers to create dynamic web pages by embedding placeholders for data that can be \n",
    "filled in dynamically when the page is rendered. Templates make it easier to maintain and scale web applications \n",
    "because they promote the separation of concerns between the presentation layer and the application logic.'''\n",
    "\n"
   ]
  },
  {
   "cell_type": "code",
   "execution_count": null,
   "id": "3dde320d-1e98-4bfe-bfe5-d3a28a47760a",
   "metadata": {},
   "outputs": [],
   "source": []
  },
  {
   "cell_type": "code",
   "execution_count": null,
   "id": "143f39fb-acfe-4341-a690-653f87e9522b",
   "metadata": {},
   "outputs": [],
   "source": [
    "#Q5. Create a simple API. Use Postman to test it. Attach the screenshot of the output in the Jupyter Notebook."
   ]
  },
  {
   "cell_type": "code",
   "execution_count": null,
   "id": "ea1fe62c-c09f-4e68-a021-ffecfcdf7448",
   "metadata": {},
   "outputs": [],
   "source": []
  }
 ],
 "metadata": {
  "kernelspec": {
   "display_name": "Python 3 (ipykernel)",
   "language": "python",
   "name": "python3"
  },
  "language_info": {
   "codemirror_mode": {
    "name": "ipython",
    "version": 3
   },
   "file_extension": ".py",
   "mimetype": "text/x-python",
   "name": "python",
   "nbconvert_exporter": "python",
   "pygments_lexer": "ipython3",
   "version": "3.10.8"
  }
 },
 "nbformat": 4,
 "nbformat_minor": 5
}
